{
 "cells": [
  {
   "cell_type": "markdown",
   "id": "missing-semester",
   "metadata": {},
   "source": [
    "# Web scraping with python\n",
    "Web scraping is an automated method used to extract large amounts of data from websites. The data on the websites are unstructured. Web scraping helps collect these unstructured data and store it in a structured form. There are different ways to scrape websites such as online Services, APIs or writing your own code.\n",
    "![1](web.jpg)"
   ]
  },
  {
   "cell_type": "code",
   "execution_count": 21,
   "id": "comfortable-yellow",
   "metadata": {},
   "outputs": [],
   "source": [
    "import requests\n",
    "from bs4 import BeautifulSoup\n",
    "import pandas as pd\n",
    "import time\n",
    "import sys"
   ]
  },
  {
   "cell_type": "code",
   "execution_count": 46,
   "id": "alien-dominican",
   "metadata": {},
   "outputs": [],
   "source": [
    "try:\n",
    "    page = requests.get('https://www.cricbuzz.com/')\n",
    "    \n",
    "except Exception as e:\n",
    "    error_type, error_obj, error_info = sys.exc_info()\n",
    "    print('ERROR_FROM_URL', url)\n",
    "    print(error_type)\n",
    "    \n",
    "time.sleep(2)\n",
    "soup= BeautifulSoup(page.text, 'html.parser')\n",
    "\n",
    "topics = soup.find_all('h2', attrs = {'class': 'big-crd-hdln'})\n",
    "desc = soup.find_all('div', attrs = {'class': 'cb-nws-intr'})"
   ]
  },
  {
   "cell_type": "code",
   "execution_count": 70,
   "id": "accessory-mount",
   "metadata": {},
   "outputs": [
    {
     "name": "stdout",
     "output_type": "stream",
     "text": [
      "\u001b[1mIn a constellation of gigantic stars, Harshal shines brightest\u001b[0m\n",
      "After conceding 15 off his opening over, the Haryana all-rounder gave away only only 12 runs in his next thee overs and picked five wickets\n",
      "\n",
      "\n",
      "\u001b[1mDelhi Capitals: Can Ponting-Pant bring elusive glory?\u001b[0m\n",
      "With regular skipper Shreyas Iyer ruled out due to shoulder surgery, DC have handed over the reigns to in-form Pant\n",
      "\n",
      "\n",
      "\u001b[1mMumbai Matrix - the formula that cracked IPL\u001b[0m\n",
      "How Mumbai Indians came to be the most successful team in IPL history\n",
      "\n",
      "\n",
      "\u001b[1mReminiscing with Rahul\u001b[0m\n",
      "In the first edition of the Dialogue Room, which will present an interview every week, the former India captain recounts his fascinating journey with the most high-profile T20 league in world cricket\n",
      "\n",
      "\n",
      "\u001b[1mStay #AboveTheNoise with Cricbuzz Plus\u001b[0m\n",
      "Catch a range of in-depth, exclusive content in an ad-free format with Cricbuzz Plus\n",
      "\n",
      "\n"
     ]
    }
   ],
   "source": [
    "for i,j in zip(topics,desc):\n",
    "\n",
    "    print(\"\\033[1m\" + (i.text).strip() + \"\\033[0m\")\n",
    "    print((j.text).strip())\n",
    "    print('\\n')"
   ]
  },
  {
   "cell_type": "code",
   "execution_count": null,
   "id": "assumed-affiliation",
   "metadata": {},
   "outputs": [],
   "source": []
  }
 ],
 "metadata": {
  "kernelspec": {
   "display_name": "Python 3",
   "language": "python",
   "name": "python3"
  },
  "language_info": {
   "codemirror_mode": {
    "name": "ipython",
    "version": 3
   },
   "file_extension": ".py",
   "mimetype": "text/x-python",
   "name": "python",
   "nbconvert_exporter": "python",
   "pygments_lexer": "ipython3",
   "version": "3.8.5"
  }
 },
 "nbformat": 4,
 "nbformat_minor": 5
}
